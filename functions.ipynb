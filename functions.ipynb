{
  "nbformat": 4,
  "nbformat_minor": 0,
  "metadata": {
    "colab": {
      "provenance": []
    },
    "kernelspec": {
      "name": "python3",
      "display_name": "Python 3"
    },
    "language_info": {
      "name": "python"
    }
  },
  "cells": [
    {
      "cell_type": "markdown",
      "source": [
        "                              Practical Questions"
      ],
      "metadata": {
        "id": "vHVGTlKXLB-Q"
      }
    },
    {
      "cell_type": "markdown",
      "source": [
        "1. Write  a Python Program to print \"Hellow, World\"\n",
        "       print(\"Hellow World\")\n"
      ],
      "metadata": {
        "id": "kb3YUifRM1eI"
      }
    },
    {
      "cell_type": "markdown",
      "source": [
        "3. Write code to print all the pre-defined keywords in Python using the keywords library.\n",
        " # Printing all the predefined keywords in Python\n",
        "print(\"The list of Python keywords is\")\n",
        "print(keyword.kwlist)"
      ],
      "metadata": {
        "id": "NJrIw5WFM3RP"
      }
    },
    {
      "cell_type": "code",
      "execution_count": null,
      "metadata": {
        "id": "ZUXNcO-_KWun"
      },
      "outputs": [],
      "source": []
    },
    {
      "cell_type": "markdown",
      "source": [
        "4. Write a program that checks if a given word is a Python keyword.\n",
        "\n",
        "w=input(\"Enter a word \")\n",
        "\n",
        "if keyword.iskeyword(w):\n",
        "   print(\"Yes\")\n",
        "else:\n",
        "    print(\"No\")"
      ],
      "metadata": {
        "id": "HOtm0uD5QV7T"
      }
    },
    {
      "cell_type": "code",
      "source": [],
      "metadata": {
        "id": "Au8tFmOzRYDK"
      },
      "execution_count": null,
      "outputs": []
    },
    {
      "cell_type": "markdown",
      "source": [
        "5.Create a list and tuple in Python and demonstrate how attempting to change an element works differently for each.\n",
        "\n",
        " # list example\n",
        "a = [1, 2, 3]\n",
        "a[0] = 10\n",
        "print(a)\n",
        "\n",
        "# tuple example\n",
        "b = (1, 2, 3)\n",
        "# b[0] = 10  # this gives error\n",
        "print(b)\n",
        "   "
      ],
      "metadata": {
        "id": "2QSKd328QWDN"
      }
    },
    {
      "cell_type": "markdown",
      "source": [
        "6.write a functions to demonstrate the behavior of mutable and immutable arguments.\n",
        "\n",
        "def change_list(my_list):\n",
        "    my_list[0] = 10\n",
        "    print(\"Inside function, List:\", my_list)\n",
        "\n",
        "def change_tuple(my_tuple):\n",
        "    print(\"Inside function, Tuple:\", my_tuple)\n",
        "\n",
        "my_list = [1, 2, 3]\n",
        "my_tuple = (1, 2, 3)\n",
        "\n",
        "change_list(my_list)\n",
        "change_tuple(my_tuple)\n",
        "\n",
        "print(\"Outside function, List:\", my_list)\n",
        "print(\"Outside function, Tuple:\", my_tuple)\n",
        "\n"
      ],
      "metadata": {
        "id": "847KYzatQWGG"
      }
    },
    {
      "cell_type": "markdown",
      "source": [
        "7. Write a program that performs basic arithmetic operations on two user input numbers.\n",
        "\n",
        "num1 = float(input(\"Enter the first number: \"))\n",
        "\n",
        "num2 = float(input(\"Enter the second number: \"))\n",
        "\n",
        "print(\"Addition\", num1 + num2)\n",
        "\n",
        "print(\"Subtraction\", num1 - num2)\n",
        "\n",
        "print(\"Multiplication\", num1 * num2)\n",
        "\n",
        "print(\"Division\", num1 / num2)"
      ],
      "metadata": {
        "id": "RJvZKai-QWI4"
      }
    },
    {
      "cell_type": "markdown",
      "source": [
        "8.Write a program to demonstrate the use of logical operators.\n",
        "\n",
        "a = True\n",
        "\n",
        "b = False\n",
        "\n",
        "print(\"a and b\", a and b)\n",
        "\n",
        "print(\"a or b\", a or b)\n",
        "\n",
        "print(\"not a\", not a)\n"
      ],
      "metadata": {
        "id": "P4dm5D7eQWMF"
      }
    },
    {
      "cell_type": "markdown",
      "source": [
        "9.Write a Python program to convert user input from string to integer, float, and Boolean type.\n",
        "\n",
        "user_input = input(\"Enter a value: \")\n",
        "\n",
        "integer_value = int(user_input)\n",
        "\n",
        "float_value = float(user_input)\n",
        "\n",
        "boolean_value = bool(user_input)\n",
        "\n",
        "print(\"Integer:\", integer_value)\n",
        "\n",
        "print(\"Float:\", float_value)\n",
        "\n",
        "print(\"Boolean:\", boolean_value)"
      ],
      "metadata": {
        "id": "k8KokpJBQWO7"
      }
    },
    {
      "cell_type": "markdown",
      "source": [
        "10.Write a code to demonstrate typecasting with a list element.\n",
        "\n",
        "my_list = [\"10\", \"20\", \"30\"]\n",
        "\n",
        "# Convert string to integer\n",
        "\n",
        "my_list[0] = int(my_list[0])\n",
        "\n",
        "print(\"List after typecasting\", my_list)"
      ],
      "metadata": {
        "id": "1FYdeTIjQWRv"
      }
    },
    {
      "cell_type": "markdown",
      "source": [
        "11.Write a program that checks if a number is positive, negative, or zero.\n",
        "\n",
        "num = float(input(\"Enter a number: \"))\n",
        "\n",
        "if num > 0:\n",
        "    print(\"The number is positive.\")\n",
        "\n",
        "elif num < 0:\n",
        "    print(\"The number is negative.\")\n",
        "else:\n",
        "    print(\"The number is zero.\")"
      ],
      "metadata": {
        "id": "efsWKlMhQWVB"
      }
    },
    {
      "cell_type": "markdown",
      "source": [
        "12. Write a loop to print a number from 1 to 10.\n",
        "\n",
        "for i in range(1, 11):\n",
        "\n",
        "    print(i)"
      ],
      "metadata": {
        "id": "WaNV0dYVM057"
      }
    },
    {
      "cell_type": "markdown",
      "source": [
        "Q13. Write a Python program to find the sum of all even numbers between 1 and 50.\n",
        "\n",
        "sum_even = 0\n",
        "\n",
        "for i in range(2, 51, 2):\n",
        "\n",
        " # Starting from 2 and step of 2 for even numbers\n",
        "\n",
        "    sum_even += i\n",
        "\n",
        "print(\"Sum of all even numbers between 1 and 50:\", sum_even)\n",
        "\n"
      ],
      "metadata": {
        "id": "Bx_RAnp-XO80"
      }
    },
    {
      "cell_type": "markdown",
      "source": [
        "14.Write a program to reverse a string using a while loop.\n",
        "\n",
        "string = input(\"Enter a string: \")\n",
        "\n",
        "reversed_string = \"\"\n",
        "\n",
        "index = len(string) - 1\n",
        "\n",
        "while index >= 0:\n",
        "\n",
        "    reversed_string += string[index]\n",
        "    index -= 1\n",
        "\n",
        "print(\"Reversed string:\", reversed_string)\n",
        "\n",
        "\n",
        "\n",
        "\n"
      ],
      "metadata": {
        "id": "k9E36oDSXPAW"
      }
    },
    {
      "cell_type": "markdown",
      "source": [
        "Q15. Write a Python program to calculate the factorial of a number provided by the user using a while loop.\n",
        "\n",
        "num = int(input(\"Enter a number: \"))\n",
        "\n",
        "factorial = 1\n",
        "\n",
        "while num > 1:\n",
        "\n",
        "    factorial *= num\n",
        "    num -= 1\n",
        "\n",
        "print(\"Factorial:\", factorial)\n",
        "\n",
        "\n"
      ],
      "metadata": {
        "id": "Ht27pYlkXPPr"
      }
    }
  ]
}